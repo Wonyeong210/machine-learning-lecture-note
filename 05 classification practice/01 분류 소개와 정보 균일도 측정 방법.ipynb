{
 "cells": [
  {
   "cell_type": "markdown",
   "metadata": {},
   "source": [
    "# 01 분류 소개와 정보 균일도 측정 방법"
   ]
  },
  {
   "cell_type": "markdown",
   "metadata": {},
   "source": [
    "### 분류 알고리즘\n",
    "\n",
    "#### 분류(classification) : \n",
    "학습 데이터로 주어진 데이터의 feature, label값을 머신러닝 알고리즘으로 학습해 모델을 생성하고 이 모델에 새로운 데이터가 주어졌을 때 미지의 label을 예측하는 것\n",
    "\n",
    "#### 대표적인 분류 알고리즘\n",
    "* 나이브 베이즈 (Naive Bayes) : 베이즈(Bayes)통계와 생성 모델에 기반하는 알고리즘\n",
    "* 로지스틱 회귀 (Logistic Regression) : 독립변수, 종속변수의 선형 관계성에 기반하는 알고리즘\n",
    "* 결정 트리 (Decision Tree) : 데이터 균일도에 따른 규칙에 기반하는 알고리즘\n",
    "* 서퍼트 벡터 머신 (Support Vector Machine) : 개별 클래수 간 최대 분류 마진을 효과적으로 찾는 알고리즘\n",
    "* 최소 근접 알고리즘 (Nearest Neighbor) : 근접 거리를 기준으로 하는 알고리즘\n",
    "* 심층 연결 기반의 신경망 (Neural Network)\n",
    "* 앙상블 (Ensemble) : 서로 다른(또는 같은) 머신러닝 알고리즘을 결합한 알고리즘"
   ]
  },
  {
   "cell_type": "markdown",
   "metadata": {},
   "source": [
    " "
   ]
  },
  {
   "cell_type": "markdown",
   "metadata": {},
   "source": [
    "### 결정 트리 & 앙상블\n",
    "\n",
    "#### 결정 트리\n",
    "* 매우 쉽고 유연하게 적용될 수 있는 알고리즘\n",
    "* 데이터에 있는 규칙을 학습을 통해 자동으로 찾아내 트리 기반의 분류 규칙을 만듦. (If-Else기반)\n",
    "* 장점 : 쉬움. 직관적임. 데이터의 스케일링, 정규화와 같은 사전 가공의 영향이 매우 적음.\n",
    "* 단점 : 예측 성능 향상을 위해 복잡한 규직 구조를 가져야함 -> 과적합으로 알고리즘 성능이 떨어짐.\n",
    "\n",
    "#### 앙상블\n",
    "* 결정 트리의 단점이 앙상블에서는 장점으로 작용.\n",
    "* 앙상블은 매우 많은 여러개의 약한 학습기를 결합해 확률적 보완 등을 하며 성능을 향상시키는데 결정 트리가 약한 학습기에 좋다. (GBM, XGBoost, LightGBM)"
   ]
  },
  {
   "cell_type": "markdown",
   "metadata": {},
   "source": [
    " "
   ]
  },
  {
   "cell_type": "markdown",
   "metadata": {},
   "source": [
    "## 정보 균일도 측정 방법\n",
    "\n",
    "### 1) 정보 이득 (Information Gain)\n",
    "* 엔트로피라는 개념을 기반으로 함.\n",
    "* 정보 이득 지수 = 1 - 엔트로피 지수\n",
    "* 정보 이득 지수가 높으려면 같은 값이 섞여있어서 엔트로피가 낮아야 함.\n",
    "* 결정트리는 정보 이득 지수로 분할 기준을 정함. (정보 이득이 높은 속성을 기준으로 분할)\n",
    "\n",
    "#### 엔트로피\n",
    "* 엔트로피는 주어진 데이터 집합의 혼잡도를 의미함\n",
    "* 서로 다른 값이 섞여 있으면 엔트로피가 높다.\n",
    "* 서로 같은 값이 섞여 있으면 엔트로피가 낮다.\n",
    "\n",
    "\n",
    "### 2) 지니 계수\n",
    "* 경제학에서 불평등 지수를 나타낼 때 사용하는 계수\n",
    "* 0이 가장 평등하고 1로 갈수록 불평등\n",
    "* 데이터가 다양한 값을 가질수록 평등, "
   ]
  }
 ],
 "metadata": {
  "kernelspec": {
   "display_name": "Python 3",
   "language": "python",
   "name": "python3"
  },
  "language_info": {
   "codemirror_mode": {
    "name": "ipython",
    "version": 3
   },
   "file_extension": ".py",
   "mimetype": "text/x-python",
   "name": "python",
   "nbconvert_exporter": "python",
   "pygments_lexer": "ipython3",
   "version": "3.8.3"
  }
 },
 "nbformat": 4,
 "nbformat_minor": 4
}
