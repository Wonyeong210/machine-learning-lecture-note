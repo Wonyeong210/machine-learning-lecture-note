{
 "cells": [
  {
   "cell_type": "code",
   "execution_count": 2,
   "metadata": {},
   "outputs": [],
   "source": [
    "import pandas as pd\n",
    "T_Df = pd.read_csv(\"./titanic_train.csv\")"
   ]
  },
  {
   "cell_type": "markdown",
   "metadata": {},
   "source": [
    "## [ DataFrame <-> List, Dictionary, Numpy ndarray ]"
   ]
  },
  {
   "cell_type": "markdown",
   "metadata": {},
   "source": [
    "#### 1차원 List -> DataFrame"
   ]
  },
  {
   "cell_type": "code",
   "execution_count": 3,
   "metadata": {},
   "outputs": [
    {
     "name": "stdout",
     "output_type": "stream",
     "text": [
      "1차원 List -> DataFrame:\n",
      "\n",
      "    col1\n",
      "0     1\n",
      "1     2\n",
      "2     3\n"
     ]
    }
   ],
   "source": [
    "Col_N1 = [\"col1\"]\n",
    "List1 = [1,2,3]\n",
    "\n",
    "List_df1 = pd.DataFrame(List1, columns=Col_N1)\n",
    "print(\"1차원 List -> DataFrame:\\n\\n\", List_df1)"
   ]
  },
  {
   "cell_type": "markdown",
   "metadata": {},
   "source": [
    "#### 1차원 Numpy ndarray -> DataFrame"
   ]
  },
  {
   "cell_type": "code",
   "execution_count": 5,
   "metadata": {},
   "outputs": [
    {
     "name": "stdout",
     "output_type": "stream",
     "text": [
      "Array1 shape: (3,)\n",
      "1차원 ndarray -> DataFrame:\n",
      "\n",
      "    col1\n",
      "0     1\n",
      "1     2\n",
      "2     3\n"
     ]
    }
   ],
   "source": [
    "# 앞서 만든 List1로 ndarray 생성\n",
    "import numpy as np\n",
    "\n",
    "Col_N1 = [\"col1\"]\n",
    "Array1 = np.array(List1)\n",
    "print(\"Array1 shape:\", Array1.shape)\n",
    "\n",
    "Array_df1 = pd.DataFrame(Array1, columns=Col_N1)\n",
    "print('1차원 ndarray -> DataFrame:\\n\\n', Array_df1)"
   ]
  },
  {
   "cell_type": "markdown",
   "metadata": {},
   "source": [
    "#### 2차원 List -> DataFrame"
   ]
  },
  {
   "cell_type": "code",
   "execution_count": 6,
   "metadata": {},
   "outputs": [
    {
     "name": "stdout",
     "output_type": "stream",
     "text": [
      "2차원 List -> DataFrame:\n",
      "\n",
      "    col1  col2  col3\n",
      "0     1     2     3\n",
      "1    11    22    33\n"
     ]
    }
   ],
   "source": [
    "Col_N2 = [\"col1\", \"col2\", \"col3\"]\n",
    "List2 = [[1,2,3],\n",
    "         [11,22,33]]\n",
    "\n",
    "List_df2 = pd.DataFrame(List2, columns = Col_N2)\n",
    "print(\"2차원 List -> DataFrame:\\n\\n\", List_df2)"
   ]
  },
  {
   "cell_type": "markdown",
   "metadata": {},
   "source": [
    "#### 2차원 ndarray -> DataFrame"
   ]
  },
  {
   "cell_type": "code",
   "execution_count": 7,
   "metadata": {},
   "outputs": [
    {
     "name": "stdout",
     "output_type": "stream",
     "text": [
      "Array2 shape:  (2, 3)\n",
      "2차원 ndarray -> DataFrame:\n",
      "\n",
      "    col1  col2  col3\n",
      "0     1     2     3\n",
      "1    11    22    33\n"
     ]
    }
   ],
   "source": [
    "# 앞서 만든 List2로 ndarray 생성\n",
    "Col_N2 = [\"col1\", \"col2\", \"col3\"]\n",
    "Array2 = np.array(List2)\n",
    "print(\"Array2 shape: \", Array2.shape)\n",
    "\n",
    "Array_df2 = pd.DataFrame(Array2, columns=Col_N2)\n",
    "print(\"2차원 ndarray -> DataFrame:\\n\\n\", Array_df2)"
   ]
  },
  {
   "cell_type": "markdown",
   "metadata": {},
   "source": [
    "#### Dictionary -> DataFrame"
   ]
  },
  {
   "cell_type": "code",
   "execution_count": 8,
   "metadata": {},
   "outputs": [
    {
     "name": "stdout",
     "output_type": "stream",
     "text": [
      "Dictionary -> DataFrame:\n",
      "\n",
      "    col1  col2  col3\n",
      "0     1     2     3\n",
      "1    11    22    33\n"
     ]
    }
   ],
   "source": [
    "# key - 컬럼명, value - 리스트 or ndarray\n",
    "Dict = {\"col1\":[1,11], \"col2\":[2,22], \"col3\":[3,33]}\n",
    "\n",
    "Dict_df = pd.DataFrame(Dict)\n",
    "print(\"Dictionary -> DataFrame:\\n\\n\", Dict_df)"
   ]
  },
  {
   "cell_type": "markdown",
   "metadata": {},
   "source": [
    "#### DataFrame -> ndarray   (values()를 사용)"
   ]
  },
  {
   "cell_type": "code",
   "execution_count": 9,
   "metadata": {},
   "outputs": [
    {
     "name": "stdout",
     "output_type": "stream",
     "text": [
      "Dict_df.values type:  <class 'numpy.ndarray'> \n",
      "Dict_df.values shape (2, 3) \n",
      "\n",
      "DataFrame -> ndarray:\n",
      " [[ 1  2  3]\n",
      " [11 22 33]]\n"
     ]
    }
   ],
   "source": [
    "# 앞서 만든 Dict_df(DataFrame)을 변환\n",
    "Array = Dict_df.values\n",
    "\n",
    "print(\"Dict_df.values type: \", type(Array), \"\\nDict_df.values shape\", Array.shape, \"\\n\")\n",
    "print(\"DataFrame -> ndarray:\\n\", Array)"
   ]
  },
  {
   "cell_type": "markdown",
   "metadata": {},
   "source": [
    "#### DataFrame -> List (사실상 DataFrame -> ndarray -> List라서 values.tolist()사용)"
   ]
  },
  {
   "cell_type": "code",
   "execution_count": 10,
   "metadata": {},
   "outputs": [
    {
     "name": "stdout",
     "output_type": "stream",
     "text": [
      "Dict_df.values.tolist() type:  <class 'list'>\n",
      "\n",
      "DataFrame -> List:\n",
      " [[1, 2, 3], [11, 22, 33]]\n"
     ]
    }
   ],
   "source": [
    "# 앞서 만든 Dict_df(DataFrame)을 변환\n",
    "List = Dict_df.values.tolist()\n",
    "\n",
    "print(\"Dict_df.values.tolist() type: \", type(List))\n",
    "print(\"\\nDataFrame -> List:\\n\", List)"
   ]
  },
  {
   "cell_type": "markdown",
   "metadata": {},
   "source": [
    "#### DataFrame -> Dictionary (to_dict(\"list\") 사용)"
   ]
  },
  {
   "cell_type": "code",
   "execution_count": 11,
   "metadata": {},
   "outputs": [
    {
     "name": "stdout",
     "output_type": "stream",
     "text": [
      "Dict_df.to_dict() type:  <class 'dict'>\n",
      "\n",
      "DataFrame -> Dictionary:\n",
      " {'col1': [1, 11], 'col2': [2, 22], 'col3': [3, 33]}\n"
     ]
    }
   ],
   "source": [
    "# 앞서 만든 Dict_df, List를 이용\n",
    "Dict = Dict_df.to_dict(\"list\")\n",
    "\n",
    "print(\"Dict_df.to_dict() type: \", type(Dict))\n",
    "print(\"\\nDataFrame -> Dictionary:\\n\", Dict)"
   ]
  },
  {
   "cell_type": "code",
   "execution_count": null,
   "metadata": {},
   "outputs": [],
   "source": []
  }
 ],
 "metadata": {
  "kernelspec": {
   "display_name": "Python 3",
   "language": "python",
   "name": "python3"
  },
  "language_info": {
   "codemirror_mode": {
    "name": "ipython",
    "version": 3
   },
   "file_extension": ".py",
   "mimetype": "text/x-python",
   "name": "python",
   "nbconvert_exporter": "python",
   "pygments_lexer": "ipython3",
   "version": "3.8.3"
  }
 },
 "nbformat": 4,
 "nbformat_minor": 4
}
